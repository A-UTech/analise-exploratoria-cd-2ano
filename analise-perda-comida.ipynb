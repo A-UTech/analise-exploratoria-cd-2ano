{
 "cells": [
  {
   "metadata": {},
   "cell_type": "markdown",
   "source": [
    "# Análise Exploratória de Dados sobre Perda de Comida\n",
    "\n",
    "A perda e o desperdício de alimentos são problemas globais que afetam tanto a segurança alimentar quanto o meio ambiente.\n",
    "Estima-se que uma parte significativa da produção mundial de comida nunca chegue ao consumo humano, resultando em:\n",
    "\n",
    "- Impactos econômicos (custos de produção e distribuição desperdiçados);\n",
    "- Impactos sociais (menos disponibilidade de alimentos para populações vulneráveis);\n",
    "- Impactos ambientais (emissão de gases de efeito estufa, uso desnecessário de água e solo).\n",
    "\n",
    "Neste notebook, iremos realizar uma **Análise Exploratória de Dados (EDA)** a partir do arquivo:\n",
    "\n",
    "**`food_wastage.csv`**\n",
    "\n",
    "O objetivo é identificar padrões, correlações e insights sobre **como, onde e quanto alimento é perdido ou desperdiçado**, fornecendo subsídios para futuras soluções e estratégias de mitigação.\n",
    "\n",
    "---\n"
   ],
   "id": "fbb1183863704240"
  },
  {
   "metadata": {},
   "cell_type": "markdown",
   "source": "## Importação das bibliotecas necessárias",
   "id": "28461f4c7fb429c1"
  },
  {
   "metadata": {
    "ExecuteTime": {
     "end_time": "2025-09-21T15:40:31.199894Z",
     "start_time": "2025-09-21T15:40:31.192381Z"
    }
   },
   "cell_type": "code",
   "source": [
    "import pandas as pd\n",
    "import matplotlib.pyplot as plt\n",
    "import seaborn as sns\n",
    "import numpy as np"
   ],
   "id": "6ab7ca2c8043544f",
   "outputs": [],
   "execution_count": 149
  },
  {
   "metadata": {},
   "cell_type": "markdown",
   "source": "## Lendo a base de dados `food_wastage.csv`",
   "id": "8db9b9f1f51398e"
  },
  {
   "metadata": {
    "ExecuteTime": {
     "end_time": "2025-09-21T15:40:31.272395Z",
     "start_time": "2025-09-21T15:40:31.251239Z"
    }
   },
   "cell_type": "code",
   "source": [
    "pd.set_option('display.max_columns', None)\n",
    "\n",
    "data = pd.read_csv('food_wastage.csv')"
   ],
   "id": "849633e323cfb415",
   "outputs": [],
   "execution_count": 150
  },
  {
   "metadata": {},
   "cell_type": "markdown",
   "source": "## Primeiras impressões da base de dados",
   "id": "a8895f27b78a7a95"
  },
  {
   "metadata": {
    "ExecuteTime": {
     "end_time": "2025-09-21T15:40:31.301973Z",
     "start_time": "2025-09-21T15:40:31.287969Z"
    }
   },
   "cell_type": "code",
   "source": "display(data.head())",
   "id": "60e01c2621b9fc0",
   "outputs": [
    {
     "data": {
      "text/plain": [
       "  Type of Food  Number of Guests Event Type  Quantity of Food  \\\n",
       "0         Meat               310  Corporate               450   \n",
       "1         Meat               400   Birthday               500   \n",
       "2   Vegetables               302   Birthday               371   \n",
       "3         Meat               491   Birthday               497   \n",
       "4         Meat               300  Corporate               400   \n",
       "\n",
       "  Storage Conditions Purchase History  Seasonality Preparation Method  \\\n",
       "0       Refrigerated          Regular  All Seasons             Buffet   \n",
       "1   Room Temperature          Regular       Winter             Buffet   \n",
       "2       Refrigerated          Regular       Summer             Buffet   \n",
       "3       Refrigerated          Regular  All Seasons        Finger Food   \n",
       "4       Refrigerated          Regular       Winter        Finger Food   \n",
       "\n",
       "  Geographical Location   Pricing  Wastage Food Amount  \n",
       "0                 Urban       Low                   25  \n",
       "1              Suburban      High                   40  \n",
       "2              Suburban       Low                   27  \n",
       "3                 Rural      High                   32  \n",
       "4                 Urban  Moderate                   25  "
      ],
      "text/html": [
       "<div>\n",
       "<style scoped>\n",
       "    .dataframe tbody tr th:only-of-type {\n",
       "        vertical-align: middle;\n",
       "    }\n",
       "\n",
       "    .dataframe tbody tr th {\n",
       "        vertical-align: top;\n",
       "    }\n",
       "\n",
       "    .dataframe thead th {\n",
       "        text-align: right;\n",
       "    }\n",
       "</style>\n",
       "<table border=\"1\" class=\"dataframe\">\n",
       "  <thead>\n",
       "    <tr style=\"text-align: right;\">\n",
       "      <th></th>\n",
       "      <th>Type of Food</th>\n",
       "      <th>Number of Guests</th>\n",
       "      <th>Event Type</th>\n",
       "      <th>Quantity of Food</th>\n",
       "      <th>Storage Conditions</th>\n",
       "      <th>Purchase History</th>\n",
       "      <th>Seasonality</th>\n",
       "      <th>Preparation Method</th>\n",
       "      <th>Geographical Location</th>\n",
       "      <th>Pricing</th>\n",
       "      <th>Wastage Food Amount</th>\n",
       "    </tr>\n",
       "  </thead>\n",
       "  <tbody>\n",
       "    <tr>\n",
       "      <th>0</th>\n",
       "      <td>Meat</td>\n",
       "      <td>310</td>\n",
       "      <td>Corporate</td>\n",
       "      <td>450</td>\n",
       "      <td>Refrigerated</td>\n",
       "      <td>Regular</td>\n",
       "      <td>All Seasons</td>\n",
       "      <td>Buffet</td>\n",
       "      <td>Urban</td>\n",
       "      <td>Low</td>\n",
       "      <td>25</td>\n",
       "    </tr>\n",
       "    <tr>\n",
       "      <th>1</th>\n",
       "      <td>Meat</td>\n",
       "      <td>400</td>\n",
       "      <td>Birthday</td>\n",
       "      <td>500</td>\n",
       "      <td>Room Temperature</td>\n",
       "      <td>Regular</td>\n",
       "      <td>Winter</td>\n",
       "      <td>Buffet</td>\n",
       "      <td>Suburban</td>\n",
       "      <td>High</td>\n",
       "      <td>40</td>\n",
       "    </tr>\n",
       "    <tr>\n",
       "      <th>2</th>\n",
       "      <td>Vegetables</td>\n",
       "      <td>302</td>\n",
       "      <td>Birthday</td>\n",
       "      <td>371</td>\n",
       "      <td>Refrigerated</td>\n",
       "      <td>Regular</td>\n",
       "      <td>Summer</td>\n",
       "      <td>Buffet</td>\n",
       "      <td>Suburban</td>\n",
       "      <td>Low</td>\n",
       "      <td>27</td>\n",
       "    </tr>\n",
       "    <tr>\n",
       "      <th>3</th>\n",
       "      <td>Meat</td>\n",
       "      <td>491</td>\n",
       "      <td>Birthday</td>\n",
       "      <td>497</td>\n",
       "      <td>Refrigerated</td>\n",
       "      <td>Regular</td>\n",
       "      <td>All Seasons</td>\n",
       "      <td>Finger Food</td>\n",
       "      <td>Rural</td>\n",
       "      <td>High</td>\n",
       "      <td>32</td>\n",
       "    </tr>\n",
       "    <tr>\n",
       "      <th>4</th>\n",
       "      <td>Meat</td>\n",
       "      <td>300</td>\n",
       "      <td>Corporate</td>\n",
       "      <td>400</td>\n",
       "      <td>Refrigerated</td>\n",
       "      <td>Regular</td>\n",
       "      <td>Winter</td>\n",
       "      <td>Finger Food</td>\n",
       "      <td>Urban</td>\n",
       "      <td>Moderate</td>\n",
       "      <td>25</td>\n",
       "    </tr>\n",
       "  </tbody>\n",
       "</table>\n",
       "</div>"
      ]
     },
     "metadata": {},
     "output_type": "display_data"
    }
   ],
   "execution_count": 151
  },
  {
   "metadata": {},
   "cell_type": "markdown",
   "source": "### Mudando nome das colunas para facilitar o processo de codificação",
   "id": "b3c3aa8270f84dff"
  },
  {
   "metadata": {
    "ExecuteTime": {
     "end_time": "2025-09-21T15:40:31.352735Z",
     "start_time": "2025-09-21T15:40:31.344417Z"
    }
   },
   "cell_type": "code",
   "source": [
    "data = data.rename(columns={\n",
    "    'Type of Food': \"food_type\",\n",
    "    'Number of Guests': \"guests_num\",\n",
    "    'Event Type': \"event_type\",\n",
    "    'Quantity of Food': \"food_quantity_kg\",\n",
    "    'Storage Conditions': \"storage_conditions\",\n",
    "    'Purchase History': \"purchase_history\",\n",
    "    'Seasonality': \"seasonality\",\n",
    "    'Preparation Method': \"preparation_method\",\n",
    "    'Geographical Location': \"geo_location\",\n",
    "    'Pricing': \"pricing\",\n",
    "    'Wastage Food Amount': \"wastage_food_amount_kg\"\n",
    "})"
   ],
   "id": "df58f1c9cee4bbc1",
   "outputs": [],
   "execution_count": 152
  },
  {
   "metadata": {},
   "cell_type": "markdown",
   "source": "## Verificando a mudança de nomes das colunas",
   "id": "3805dcd7481aadbc"
  },
  {
   "metadata": {
    "ExecuteTime": {
     "end_time": "2025-09-21T15:40:31.476546Z",
     "start_time": "2025-09-21T15:40:31.454264Z"
    }
   },
   "cell_type": "code",
   "source": "display(data.head(1))",
   "id": "3bfe159769e587fc",
   "outputs": [
    {
     "data": {
      "text/plain": [
       "  food_type  guests_num event_type  food_quantity_kg storage_conditions  \\\n",
       "0      Meat         310  Corporate               450       Refrigerated   \n",
       "\n",
       "  purchase_history  seasonality preparation_method geo_location pricing  \\\n",
       "0          Regular  All Seasons             Buffet        Urban     Low   \n",
       "\n",
       "   wastage_food_amount_kg  \n",
       "0                      25  "
      ],
      "text/html": [
       "<div>\n",
       "<style scoped>\n",
       "    .dataframe tbody tr th:only-of-type {\n",
       "        vertical-align: middle;\n",
       "    }\n",
       "\n",
       "    .dataframe tbody tr th {\n",
       "        vertical-align: top;\n",
       "    }\n",
       "\n",
       "    .dataframe thead th {\n",
       "        text-align: right;\n",
       "    }\n",
       "</style>\n",
       "<table border=\"1\" class=\"dataframe\">\n",
       "  <thead>\n",
       "    <tr style=\"text-align: right;\">\n",
       "      <th></th>\n",
       "      <th>food_type</th>\n",
       "      <th>guests_num</th>\n",
       "      <th>event_type</th>\n",
       "      <th>food_quantity_kg</th>\n",
       "      <th>storage_conditions</th>\n",
       "      <th>purchase_history</th>\n",
       "      <th>seasonality</th>\n",
       "      <th>preparation_method</th>\n",
       "      <th>geo_location</th>\n",
       "      <th>pricing</th>\n",
       "      <th>wastage_food_amount_kg</th>\n",
       "    </tr>\n",
       "  </thead>\n",
       "  <tbody>\n",
       "    <tr>\n",
       "      <th>0</th>\n",
       "      <td>Meat</td>\n",
       "      <td>310</td>\n",
       "      <td>Corporate</td>\n",
       "      <td>450</td>\n",
       "      <td>Refrigerated</td>\n",
       "      <td>Regular</td>\n",
       "      <td>All Seasons</td>\n",
       "      <td>Buffet</td>\n",
       "      <td>Urban</td>\n",
       "      <td>Low</td>\n",
       "      <td>25</td>\n",
       "    </tr>\n",
       "  </tbody>\n",
       "</table>\n",
       "</div>"
      ]
     },
     "metadata": {},
     "output_type": "display_data"
    }
   ],
   "execution_count": 153
  },
  {
   "metadata": {
    "ExecuteTime": {
     "end_time": "2025-09-21T15:40:31.849210Z",
     "start_time": "2025-09-21T15:40:31.835103Z"
    }
   },
   "cell_type": "code",
   "source": "data.shape",
   "id": "4cbfebb46dc818f1",
   "outputs": [
    {
     "data": {
      "text/plain": [
       "(1782, 11)"
      ]
     },
     "execution_count": 154,
     "metadata": {},
     "output_type": "execute_result"
    }
   ],
   "execution_count": 154
  },
  {
   "metadata": {},
   "cell_type": "markdown",
   "source": "#### A base possui **1782 Linhas** e **11 Colunas**.",
   "id": "369fb053237f71d4"
  },
  {
   "metadata": {},
   "cell_type": "markdown",
   "source": "## Verificando se há valores nulos",
   "id": "4269537224a9089a"
  },
  {
   "metadata": {
    "ExecuteTime": {
     "end_time": "2025-09-21T15:40:32.124978Z",
     "start_time": "2025-09-21T15:40:32.108463Z"
    }
   },
   "cell_type": "code",
   "source": "print(data.isnull().sum())",
   "id": "d481abdfc6c7900f",
   "outputs": [
    {
     "name": "stdout",
     "output_type": "stream",
     "text": [
      "food_type                 0\n",
      "guests_num                0\n",
      "event_type                0\n",
      "food_quantity_kg          0\n",
      "storage_conditions        0\n",
      "purchase_history          0\n",
      "seasonality               0\n",
      "preparation_method        0\n",
      "geo_location              0\n",
      "pricing                   0\n",
      "wastage_food_amount_kg    0\n",
      "dtype: int64\n"
     ]
    }
   ],
   "execution_count": 155
  },
  {
   "metadata": {},
   "cell_type": "markdown",
   "source": [
    "## Conhecendo colunas\n",
    "### Verificando variações de cada coluna"
   ],
   "id": "1ee081cc46861ae0"
  },
  {
   "metadata": {
    "ExecuteTime": {
     "end_time": "2025-09-21T15:40:32.466035Z",
     "start_time": "2025-09-21T15:40:32.446455Z"
    }
   },
   "cell_type": "code",
   "source": [
    "for col in data.columns:\n",
    "    print(f\"{col} - {data[col].unique()}\\n\")"
   ],
   "id": "421e8c87e65d0a7c",
   "outputs": [
    {
     "name": "stdout",
     "output_type": "stream",
     "text": [
      "food_type - ['Meat' 'Vegetables' 'Fruits' 'Baked Goods' 'Dairy Products']\n",
      "\n",
      "guests_num - [310 400 302 491 300 240 320 250 267 350 380 220 208 280 438 439 434 290\n",
      " 450 230 442 397 261 342 275 472 367 292 488 247 207 453 260 412 270 284\n",
      " 430 429 432]\n",
      "\n",
      "event_type - ['Corporate' 'Birthday' 'Wedding' 'Social Gathering']\n",
      "\n",
      "food_quantity_kg - [450 500 371 497 400 350 393 300 282 493 459 495 374 480 482 405 388 489\n",
      " 420 470 498 348 280 484 452 478 443 477 496 354]\n",
      "\n",
      "storage_conditions - ['Refrigerated' 'Room Temperature']\n",
      "\n",
      "purchase_history - ['Regular' 'Occasional']\n",
      "\n",
      "seasonality - ['All Seasons' 'Winter' 'Summer']\n",
      "\n",
      "preparation_method - ['Buffet' 'Finger Food' 'Sit-down Dinner']\n",
      "\n",
      "geo_location - ['Urban' 'Suburban' 'Rural']\n",
      "\n",
      "pricing - ['Low' 'High' 'Moderate']\n",
      "\n",
      "wastage_food_amount_kg - [25 40 27 32 20 45 35 10 24 30 15 22 50 39 36 31 23 29 16 63 54 33 38 26\n",
      " 42 34]\n",
      "\n"
     ]
    }
   ],
   "execution_count": 156
  },
  {
   "metadata": {},
   "cell_type": "markdown",
   "source": [
    "## A coluna `food_type` parece interessante!\n",
    "### Vamos ver a relação dela com a coluna `wastage_food_amount_kg` para ver a quantidade de comida perdida por tipo"
   ],
   "id": "6d091ab7cb0005f3"
  },
  {
   "metadata": {
    "ExecuteTime": {
     "end_time": "2025-09-21T15:40:32.586893Z",
     "start_time": "2025-09-21T15:40:32.568269Z"
    }
   },
   "cell_type": "code",
   "source": [
    "total_food = data.groupby('food_type')['food_quantity_kg'].sum().sort_values(ascending=False)\n",
    "print(total_food)"
   ],
   "id": "d2b5e2774f08d8d",
   "outputs": [
    {
     "name": "stdout",
     "output_type": "stream",
     "text": [
      "food_type\n",
      "Meat              180884\n",
      "Baked Goods       172991\n",
      "Dairy Products    157235\n",
      "Fruits            136099\n",
      "Vegetables         85417\n",
      "Name: food_quantity_kg, dtype: int64\n"
     ]
    }
   ],
   "execution_count": 157
  },
  {
   "metadata": {
    "ExecuteTime": {
     "end_time": "2025-09-21T15:40:33.207316Z",
     "start_time": "2025-09-21T15:40:32.695549Z"
    }
   },
   "cell_type": "code",
   "source": [
    "grouped = data.groupby('food_type').agg(\n",
    "    total_wastage_kg=('wastage_food_amount_kg', 'sum'),\n",
    "    total_food_kg=('food_quantity_kg', 'sum')\n",
    ")\n",
    "\n",
    "grouped = grouped.sort_values(by='total_food_kg', ascending=False)\n",
    "\n",
    "food_types = grouped.index.to_list()\n",
    "wasted = grouped['total_wastage_kg'].values\n",
    "total = grouped['total_food_kg'].values\n",
    "\n",
    "\n",
    "x = np.arange(len(food_types))\n",
    "width = 0.35\n",
    "\n",
    "plt.figure(figsize=(12,6))\n",
    "plt.bar(x - width/2, wasted, width, label='Comida Perdida (kg)', color='salmon')\n",
    "plt.bar(x + width/2, total, width, label='Comida (kg)', color='lightblue')\n",
    "\n",
    "# anotação com deslocamento proporcional ao maior valor\n",
    "offset = max(total.max(), wasted.max()) * 0.01\n",
    "for i in range(len(x)):\n",
    "    plt.text(x[i] - width/2, wasted[i] + offset, f'{wasted[i]:.0f}', ha='center', va='bottom', fontsize=8)\n",
    "    plt.text(x[i] + width/2, total[i] + offset, f'{total[i]:.0f}', ha='center', va='bottom', fontsize=8)\n",
    "\n",
    "plt.xticks(x, food_types, rotation=0)\n",
    "plt.ylabel('Quantidade (kg)')\n",
    "plt.title('Quantidade de comida x comida perdida por tipo')\n",
    "plt.legend()\n",
    "plt.tight_layout()\n",
    "plt.show()\n",
    "\n",
    "\n"
   ],
   "id": "6094175be677a305",
   "outputs": [
    {
     "data": {
      "text/plain": [
       "<Figure size 1200x600 with 1 Axes>"
      ],
      "image/png": "[encoded data removed]"
     },
     "metadata": {},
     "output_type": "display_data"
    }
   ],
   "execution_count": 158
  },
  {
   "metadata": {},
   "cell_type": "markdown",
   "source": "### Agora, vamos ver a proporção de comida perdida por tipo",
   "id": "a936d8fbf1fd356"
  },
  {
   "metadata": {
    "ExecuteTime": {
     "end_time": "2025-09-21T15:40:33.576051Z",
     "start_time": "2025-09-21T15:40:33.252594Z"
    }
   },
   "cell_type": "code",
   "source": [
    "grouped['wastage_proportion'] = grouped['total_wastage_kg'] / grouped['total_food_kg']\n",
    "grouped = grouped.sort_values(by='wastage_proportion', ascending=False)\n",
    "\n",
    "food_types = grouped.index.to_list()\n",
    "proportions = grouped['wastage_proportion'].values\n",
    "\n",
    "x = np.arange(len(food_types))\n",
    "plt.figure(figsize=(12,6))\n",
    "bars = plt.bar(x, proportions, color='lightgreen')\n",
    "offset = max(proportions) * 0.01\n",
    "for i in range(len(x)):\n",
    "    plt.text(x[i], proportions[i] + offset, f'{proportions[i]:.2%}', ha='center', va='bottom', fontsize=8)\n",
    "plt.xticks(x, food_types, rotation=0)\n",
    "plt.ylabel('Proporção de Comida Perdida')\n",
    "plt.title('Proporção de comida perdida por tipo')\n",
    "plt.ylim(0, max(proportions) * 1.1)\n",
    "plt.tight_layout()\n",
    "plt.show()"
   ],
   "id": "c71f12c99cae19be",
   "outputs": [
    {
     "data": {
      "text/plain": [
       "<Figure size 1200x600 with 1 Axes>"
      ],
      "image/png": "[encoded data removed]"
     },
     "metadata": {},
     "output_type": "display_data"
    }
   ],
   "execution_count": 159
  },
  {
   "metadata": {},
   "cell_type": "markdown",
   "source": [
    "## Concluímos que, proporcionalmente, as frutas são o tipo de comida que mais se perde.\n",
    "\n",
    "<ol>\n",
    "    <li> Fruits\n",
    "    <li> Baked Goods\n",
    "    <li> Meat\n",
    "    <li> Dairy Products\n",
    "    <li> Vegetbles"
   ],
   "id": "a20f580b4c18a5cf"
  }
 ],
 "metadata": {
  "kernelspec": {
   "display_name": "Python 3",
   "language": "python",
   "name": "python3"
  },
  "language_info": {
   "codemirror_mode": {
    "name": "ipython",
    "version": 2
   },
   "file_extension": ".py",
   "mimetype": "text/x-python",
   "name": "python",
   "nbconvert_exporter": "python",
   "pygments_lexer": "ipython2",
   "version": "2.7.6"
  }
 },
 "nbformat": 4,
 "nbformat_minor": 5
}
