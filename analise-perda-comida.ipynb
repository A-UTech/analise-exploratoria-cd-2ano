{
 "cells": [
  {
   "metadata": {},
   "cell_type": "markdown",
   "source": [
    "<h1> Bla Bla Bla </h1>\n",
    "<h2> Ota hora eu preencho isso aqui </h2>"
   ],
   "id": "fbb1183863704240"
  },
  {
   "metadata": {
    "ExecuteTime": {
     "end_time": "2025-09-11T11:48:59.241486Z",
     "start_time": "2025-09-11T11:48:59.236396Z"
    }
   },
   "cell_type": "code",
   "source": [
    "import pandas as pd\n",
    "import matplotlib.pyplot as plt\n",
    "import seaborn as sns\n",
    "import numpy as np"
   ],
   "id": "6ab7ca2c8043544f",
   "outputs": [],
   "execution_count": 4
  },
  {
   "metadata": {
    "ExecuteTime": {
     "end_time": "2025-09-11T11:48:59.344646Z",
     "start_time": "2025-09-11T11:48:59.329752Z"
    }
   },
   "cell_type": "code",
   "source": [
    "pd.set_option('display.max_columns', None)\n",
    "\n",
    "data = pd.read_csv('food_wastage.csv')"
   ],
   "id": "849633e323cfb415",
   "outputs": [],
   "execution_count": 5
  },
  {
   "metadata": {
    "ExecuteTime": {
     "end_time": "2025-09-11T11:48:59.379320Z",
     "start_time": "2025-09-11T11:48:59.360934Z"
    }
   },
   "cell_type": "code",
   "source": "display(data.head())",
   "id": "60e01c2621b9fc0",
   "outputs": [
    {
     "data": {
      "text/plain": [
       "  Type of Food  Number of Guests Event Type  Quantity of Food  \\\n",
       "0         Meat               310  Corporate               450   \n",
       "1         Meat               400   Birthday               500   \n",
       "2   Vegetables               302   Birthday               371   \n",
       "3         Meat               491   Birthday               497   \n",
       "4         Meat               300  Corporate               400   \n",
       "\n",
       "  Storage Conditions Purchase History  Seasonality Preparation Method  \\\n",
       "0       Refrigerated          Regular  All Seasons             Buffet   \n",
       "1   Room Temperature          Regular       Winter             Buffet   \n",
       "2       Refrigerated          Regular       Summer             Buffet   \n",
       "3       Refrigerated          Regular  All Seasons        Finger Food   \n",
       "4       Refrigerated          Regular       Winter        Finger Food   \n",
       "\n",
       "  Geographical Location   Pricing  Wastage Food Amount  \n",
       "0                 Urban       Low                   25  \n",
       "1              Suburban      High                   40  \n",
       "2              Suburban       Low                   27  \n",
       "3                 Rural      High                   32  \n",
       "4                 Urban  Moderate                   25  "
      ],
      "text/html": [
       "<div>\n",
       "<style scoped>\n",
       "    .dataframe tbody tr th:only-of-type {\n",
       "        vertical-align: middle;\n",
       "    }\n",
       "\n",
       "    .dataframe tbody tr th {\n",
       "        vertical-align: top;\n",
       "    }\n",
       "\n",
       "    .dataframe thead th {\n",
       "        text-align: right;\n",
       "    }\n",
       "</style>\n",
       "<table border=\"1\" class=\"dataframe\">\n",
       "  <thead>\n",
       "    <tr style=\"text-align: right;\">\n",
       "      <th></th>\n",
       "      <th>Type of Food</th>\n",
       "      <th>Number of Guests</th>\n",
       "      <th>Event Type</th>\n",
       "      <th>Quantity of Food</th>\n",
       "      <th>Storage Conditions</th>\n",
       "      <th>Purchase History</th>\n",
       "      <th>Seasonality</th>\n",
       "      <th>Preparation Method</th>\n",
       "      <th>Geographical Location</th>\n",
       "      <th>Pricing</th>\n",
       "      <th>Wastage Food Amount</th>\n",
       "    </tr>\n",
       "  </thead>\n",
       "  <tbody>\n",
       "    <tr>\n",
       "      <th>0</th>\n",
       "      <td>Meat</td>\n",
       "      <td>310</td>\n",
       "      <td>Corporate</td>\n",
       "      <td>450</td>\n",
       "      <td>Refrigerated</td>\n",
       "      <td>Regular</td>\n",
       "      <td>All Seasons</td>\n",
       "      <td>Buffet</td>\n",
       "      <td>Urban</td>\n",
       "      <td>Low</td>\n",
       "      <td>25</td>\n",
       "    </tr>\n",
       "    <tr>\n",
       "      <th>1</th>\n",
       "      <td>Meat</td>\n",
       "      <td>400</td>\n",
       "      <td>Birthday</td>\n",
       "      <td>500</td>\n",
       "      <td>Room Temperature</td>\n",
       "      <td>Regular</td>\n",
       "      <td>Winter</td>\n",
       "      <td>Buffet</td>\n",
       "      <td>Suburban</td>\n",
       "      <td>High</td>\n",
       "      <td>40</td>\n",
       "    </tr>\n",
       "    <tr>\n",
       "      <th>2</th>\n",
       "      <td>Vegetables</td>\n",
       "      <td>302</td>\n",
       "      <td>Birthday</td>\n",
       "      <td>371</td>\n",
       "      <td>Refrigerated</td>\n",
       "      <td>Regular</td>\n",
       "      <td>Summer</td>\n",
       "      <td>Buffet</td>\n",
       "      <td>Suburban</td>\n",
       "      <td>Low</td>\n",
       "      <td>27</td>\n",
       "    </tr>\n",
       "    <tr>\n",
       "      <th>3</th>\n",
       "      <td>Meat</td>\n",
       "      <td>491</td>\n",
       "      <td>Birthday</td>\n",
       "      <td>497</td>\n",
       "      <td>Refrigerated</td>\n",
       "      <td>Regular</td>\n",
       "      <td>All Seasons</td>\n",
       "      <td>Finger Food</td>\n",
       "      <td>Rural</td>\n",
       "      <td>High</td>\n",
       "      <td>32</td>\n",
       "    </tr>\n",
       "    <tr>\n",
       "      <th>4</th>\n",
       "      <td>Meat</td>\n",
       "      <td>300</td>\n",
       "      <td>Corporate</td>\n",
       "      <td>400</td>\n",
       "      <td>Refrigerated</td>\n",
       "      <td>Regular</td>\n",
       "      <td>Winter</td>\n",
       "      <td>Finger Food</td>\n",
       "      <td>Urban</td>\n",
       "      <td>Moderate</td>\n",
       "      <td>25</td>\n",
       "    </tr>\n",
       "  </tbody>\n",
       "</table>\n",
       "</div>"
      ]
     },
     "metadata": {},
     "output_type": "display_data"
    }
   ],
   "execution_count": 6
  }
 ],
 "metadata": {
  "kernelspec": {
   "display_name": "Python 3",
   "language": "python",
   "name": "python3"
  },
  "language_info": {
   "codemirror_mode": {
    "name": "ipython",
    "version": 2
   },
   "file_extension": ".py",
   "mimetype": "text/x-python",
   "name": "python",
   "nbconvert_exporter": "python",
   "pygments_lexer": "ipython2",
   "version": "2.7.6"
  }
 },
 "nbformat": 4,
 "nbformat_minor": 5
}
