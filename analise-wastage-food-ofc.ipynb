{
 "cells": [
  {
   "cell_type": "markdown",
   "id": "fbde50ba",
   "metadata": {},
   "source": [
    "# Análise Exploratória de Dados sobre Perda de Comida\n",
    "\n",
    "A perda e o desperdício de alimentos são problemas globais que afetam tanto a segurança alimentar quanto o meio ambiente.\n",
    "Estima-se que uma parte significativa da produção mundial de comida nunca chegue ao consumo humano, resultando em:\n",
    "\n",
    "- Impactos econômicos (custos de produção e distribuição desperdiçados);\n",
    "- Impactos sociais (menos disponibilidade de alimentos para populações vulneráveis);\n",
    "- Impactos ambientais (emissão de gases de efeito estufa, uso desnecessário de água e solo).\n",
    "\n",
    "Neste notebook, iremos realizar uma **Análise Exploratória de Dados (EDA)** a partir do arquivo:\n",
    "\n",
    "**`food_wastage.csv`**\n",
    "\n",
    "O objetivo é identificar padrões, correlações e insights sobre **como, onde e quanto alimento é perdido ou desperdiçado**, fornecendo subsídios para futuras soluções e estratégias de mitigação.\n",
    "\n",
    "---"
   ]
  },
  {
   "cell_type": "markdown",
   "id": "b92992fb",
   "metadata": {},
   "source": [
    "## Importação das bibliotecas necessárias"
   ]
  },
  {
   "cell_type": "code",
   "execution_count": 1,
   "id": "bdee6200",
   "metadata": {
    "jupyter": {
     "is_executing": true
    }
   },
   "outputs": [],
   "source": [
    "import pandas as pd\n",
    "import matplotlib.pyplot as plt\n",
    "import seaborn as sns"
   ]
  },
  {
   "cell_type": "markdown",
   "id": "40e6b047",
   "metadata": {},
   "source": [
    "## Lendo a base de dados `food_wastage.csv`"
   ]
  },
  {
   "cell_type": "code",
   "execution_count": 2,
   "id": "b1e01629",
   "metadata": {},
   "outputs": [],
   "source": [
    "pd.set_option('display.max_columns', None)\n",
    "\n",
    "data = pd.read_csv('food_wastage.csv')"
   ]
  },
  {
   "cell_type": "markdown",
   "id": "0b3c25e7",
   "metadata": {},
   "source": [
    "## Primeiras impressões da base de dados"
   ]
  },
  {
   "cell_type": "code",
   "execution_count": 3,
   "id": "8ad4a54e",
   "metadata": {},
   "outputs": [
    {
     "data": {
      "text/html": [
       "<div>\n",
       "<style scoped>\n",
       "    .dataframe tbody tr th:only-of-type {\n",
       "        vertical-align: middle;\n",
       "    }\n",
       "\n",
       "    .dataframe tbody tr th {\n",
       "        vertical-align: top;\n",
       "    }\n",
       "\n",
       "    .dataframe thead th {\n",
       "        text-align: right;\n",
       "    }\n",
       "</style>\n",
       "<table border=\"1\" class=\"dataframe\">\n",
       "  <thead>\n",
       "    <tr style=\"text-align: right;\">\n",
       "      <th></th>\n",
       "      <th>Type of Food</th>\n",
       "      <th>Number of Guests</th>\n",
       "      <th>Event Type</th>\n",
       "      <th>Quantity of Food</th>\n",
       "      <th>Storage Conditions</th>\n",
       "      <th>Purchase History</th>\n",
       "      <th>Seasonality</th>\n",
       "      <th>Preparation Method</th>\n",
       "      <th>Geographical Location</th>\n",
       "      <th>Pricing</th>\n",
       "      <th>Wastage Food Amount</th>\n",
       "    </tr>\n",
       "  </thead>\n",
       "  <tbody>\n",
       "    <tr>\n",
       "      <th>0</th>\n",
       "      <td>Meat</td>\n",
       "      <td>310</td>\n",
       "      <td>Corporate</td>\n",
       "      <td>450</td>\n",
       "      <td>Refrigerated</td>\n",
       "      <td>Regular</td>\n",
       "      <td>All Seasons</td>\n",
       "      <td>Buffet</td>\n",
       "      <td>Urban</td>\n",
       "      <td>Low</td>\n",
       "      <td>25</td>\n",
       "    </tr>\n",
       "    <tr>\n",
       "      <th>1</th>\n",
       "      <td>Meat</td>\n",
       "      <td>400</td>\n",
       "      <td>Birthday</td>\n",
       "      <td>500</td>\n",
       "      <td>Room Temperature</td>\n",
       "      <td>Regular</td>\n",
       "      <td>Winter</td>\n",
       "      <td>Buffet</td>\n",
       "      <td>Suburban</td>\n",
       "      <td>High</td>\n",
       "      <td>40</td>\n",
       "    </tr>\n",
       "    <tr>\n",
       "      <th>2</th>\n",
       "      <td>Vegetables</td>\n",
       "      <td>302</td>\n",
       "      <td>Birthday</td>\n",
       "      <td>371</td>\n",
       "      <td>Refrigerated</td>\n",
       "      <td>Regular</td>\n",
       "      <td>Summer</td>\n",
       "      <td>Buffet</td>\n",
       "      <td>Suburban</td>\n",
       "      <td>Low</td>\n",
       "      <td>27</td>\n",
       "    </tr>\n",
       "    <tr>\n",
       "      <th>3</th>\n",
       "      <td>Meat</td>\n",
       "      <td>491</td>\n",
       "      <td>Birthday</td>\n",
       "      <td>497</td>\n",
       "      <td>Refrigerated</td>\n",
       "      <td>Regular</td>\n",
       "      <td>All Seasons</td>\n",
       "      <td>Finger Food</td>\n",
       "      <td>Rural</td>\n",
       "      <td>High</td>\n",
       "      <td>32</td>\n",
       "    </tr>\n",
       "    <tr>\n",
       "      <th>4</th>\n",
       "      <td>Meat</td>\n",
       "      <td>300</td>\n",
       "      <td>Corporate</td>\n",
       "      <td>400</td>\n",
       "      <td>Refrigerated</td>\n",
       "      <td>Regular</td>\n",
       "      <td>Winter</td>\n",
       "      <td>Finger Food</td>\n",
       "      <td>Urban</td>\n",
       "      <td>Moderate</td>\n",
       "      <td>25</td>\n",
       "    </tr>\n",
       "  </tbody>\n",
       "</table>\n",
       "</div>"
      ],
      "text/plain": [
       "  Type of Food  Number of Guests Event Type  Quantity of Food  \\\n",
       "0         Meat               310  Corporate               450   \n",
       "1         Meat               400   Birthday               500   \n",
       "2   Vegetables               302   Birthday               371   \n",
       "3         Meat               491   Birthday               497   \n",
       "4         Meat               300  Corporate               400   \n",
       "\n",
       "  Storage Conditions Purchase History  Seasonality Preparation Method  \\\n",
       "0       Refrigerated          Regular  All Seasons             Buffet   \n",
       "1   Room Temperature          Regular       Winter             Buffet   \n",
       "2       Refrigerated          Regular       Summer             Buffet   \n",
       "3       Refrigerated          Regular  All Seasons        Finger Food   \n",
       "4       Refrigerated          Regular       Winter        Finger Food   \n",
       "\n",
       "  Geographical Location   Pricing  Wastage Food Amount  \n",
       "0                 Urban       Low                   25  \n",
       "1              Suburban      High                   40  \n",
       "2              Suburban       Low                   27  \n",
       "3                 Rural      High                   32  \n",
       "4                 Urban  Moderate                   25  "
      ]
     },
     "metadata": {},
     "output_type": "display_data"
    }
   ],
   "source": [
    "display(data.head())"
   ]
  },
  {
   "cell_type": "markdown",
   "id": "5f97e4db",
   "metadata": {},
   "source": [
    "### Mudando nome das colunas para facilitar o processo de codificação"
   ]
  },
  {
   "cell_type": "code",
   "execution_count": 4,
   "id": "64b8ba85",
   "metadata": {},
   "outputs": [],
   "source": [
    "data = data.rename(columns={\n",
    "    'Type of Food': \"food_type\",\n",
    "    'Number of Guests': \"guests_num\",\n",
    "    'Event Type': \"event_type\",\n",
    "    'Quantity of Food': \"food_quantity_kg\",\n",
    "    'Storage Conditions': \"storage_conditions\",\n",
    "    'Purchase History': \"purchase_history\",\n",
    "    'Seasonality': \"seasonality\",\n",
    "    'Preparation Method': \"preparation_method\",\n",
    "    'Geographical Location': \"geo_location\",\n",
    "    'Pricing': \"pricing\",\n",
    "    'Wastage Food Amount': \"wastage_food_amount_kg\"\n",
    "})"
   ]
  },
  {
   "cell_type": "markdown",
   "id": "8b38ca22",
   "metadata": {},
   "source": [
    "## Verificando a mudança de nomes das colunas"
   ]
  },
  {
   "cell_type": "code",
   "execution_count": 5,
   "id": "78b22331",
   "metadata": {},
   "outputs": [
    {
     "data": {
      "text/html": [
       "<div>\n",
       "<style scoped>\n",
       "    .dataframe tbody tr th:only-of-type {\n",
       "        vertical-align: middle;\n",
       "    }\n",
       "\n",
       "    .dataframe tbody tr th {\n",
       "        vertical-align: top;\n",
       "    }\n",
       "\n",
       "    .dataframe thead th {\n",
       "        text-align: right;\n",
       "    }\n",
       "</style>\n",
       "<table border=\"1\" class=\"dataframe\">\n",
       "  <thead>\n",
       "    <tr style=\"text-align: right;\">\n",
       "      <th></th>\n",
       "      <th>food_type</th>\n",
       "      <th>guests_num</th>\n",
       "      <th>event_type</th>\n",
       "      <th>food_quantity_kg</th>\n",
       "      <th>storage_conditions</th>\n",
       "      <th>purchase_history</th>\n",
       "      <th>seasonality</th>\n",
       "      <th>preparation_method</th>\n",
       "      <th>geo_location</th>\n",
       "      <th>pricing</th>\n",
       "      <th>wastage_food_amount_kg</th>\n",
       "    </tr>\n",
       "  </thead>\n",
       "  <tbody>\n",
       "    <tr>\n",
       "      <th>0</th>\n",
       "      <td>Meat</td>\n",
       "      <td>310</td>\n",
       "      <td>Corporate</td>\n",
       "      <td>450</td>\n",
       "      <td>Refrigerated</td>\n",
       "      <td>Regular</td>\n",
       "      <td>All Seasons</td>\n",
       "      <td>Buffet</td>\n",
       "      <td>Urban</td>\n",
       "      <td>Low</td>\n",
       "      <td>25</td>\n",
       "    </tr>\n",
       "  </tbody>\n",
       "</table>\n",
       "</div>"
      ],
      "text/plain": [
       "  food_type  guests_num event_type  food_quantity_kg storage_conditions  \\\n",
       "0      Meat         310  Corporate               450       Refrigerated   \n",
       "\n",
       "  purchase_history  seasonality preparation_method geo_location pricing  \\\n",
       "0          Regular  All Seasons             Buffet        Urban     Low   \n",
       "\n",
       "   wastage_food_amount_kg  \n",
       "0                      25  "
      ]
     },
     "metadata": {},
     "output_type": "display_data"
    }
   ],
   "source": [
    "display(data.head(1))"
   ]
  },
  {
   "cell_type": "markdown",
   "id": "320a88cd",
   "metadata": {},
   "source": [
    "## Documentação das colunas\n",
    "`food_type`: Tipo de comida\n",
    "\n",
    "`guests_num`: Número de convidados no evento\n",
    "\n",
    "`event_type`: Tipo de evento\n",
    "\n",
    "`food_quantity_kg`: Quantidade total de comida preparada (em kg)\n",
    "\n",
    "`storage_conditions`: Condições de armazenamento\n",
    "\n",
    "`purchase_history`: Histórico de compra\n",
    "\n",
    "`seasonality`: Sazonalidade\n",
    "\n",
    "`preparation_method`: Método de preparação\n",
    "\n",
    "`geo_location`: Localização geográfica do evento\n",
    "\n",
    "`pricing`: Faixa de preço do evento\n",
    "\n",
    "`wastage_food_amount_kg`: Quantidade de comida perdida ou desperdiçada (em kg)"
   ]
  },
  {
   "cell_type": "code",
   "execution_count": 6,
   "id": "03199586",
   "metadata": {},
   "outputs": [
    {
     "data": {
      "text/plain": [
       "(1782, 11)"
      ]
     },
     "execution_count": 6,
     "metadata": {},
     "output_type": "execute_result"
    }
   ],
   "source": [
    "data.shape"
   ]
  },
  {
   "cell_type": "markdown",
   "id": "a0e33630",
   "metadata": {},
   "source": [
    "## Verificando se há valores nulos"
   ]
  },
  {
   "cell_type": "code",
   "execution_count": 7,
   "id": "170795df",
   "metadata": {},
   "outputs": [
    {
     "name": "stdout",
     "output_type": "stream",
     "text": [
      "food_type                 0\n",
      "guests_num                0\n",
      "event_type                0\n",
      "food_quantity_kg          0\n",
      "storage_conditions        0\n",
      "purchase_history          0\n",
      "seasonality               0\n",
      "preparation_method        0\n",
      "geo_location              0\n",
      "pricing                   0\n",
      "wastage_food_amount_kg    0\n",
      "dtype: int64\n"
     ]
    }
   ],
   "source": [
    "print(data.isnull().sum())"
   ]
  },
  {
   "cell_type": "markdown",
   "id": "79d669a5",
   "metadata": {},
   "source": [
    "## Conhecendo colunas\n",
    "### Verificando variações de cada coluna"
   ]
  },
  {
   "cell_type": "code",
   "execution_count": 8,
   "id": "2356d9fa",
   "metadata": {},
   "outputs": [
    {
     "name": "stdout",
     "output_type": "stream",
     "text": [
      "food_type - ['Meat' 'Vegetables' 'Fruits' 'Baked Goods' 'Dairy Products']\n",
      "\n",
      "guests_num - [310 400 302 491 300 240 320 250 267 350 380 220 208 280 438 439 434 290\n",
      " 450 230 442 397 261 342 275 472 367 292 488 247 207 453 260 412 270 284\n",
      " 430 429 432]\n",
      "\n",
      "event_type - ['Corporate' 'Birthday' 'Wedding' 'Social Gathering']\n",
      "\n",
      "food_quantity_kg - [450 500 371 497 400 350 393 300 282 493 459 495 374 480 482 405 388 489\n",
      " 420 470 498 348 280 484 452 478 443 477 496 354]\n",
      "\n",
      "storage_conditions - ['Refrigerated' 'Room Temperature']\n",
      "\n",
      "purchase_history - ['Regular' 'Occasional']\n",
      "\n",
      "seasonality - ['All Seasons' 'Winter' 'Summer']\n",
      "\n",
      "preparation_method - ['Buffet' 'Finger Food' 'Sit-down Dinner']\n",
      "\n",
      "geo_location - ['Urban' 'Suburban' 'Rural']\n",
      "\n",
      "pricing - ['Low' 'High' 'Moderate']\n",
      "\n",
      "wastage_food_amount_kg - [25 40 27 32 20 45 35 10 24 30 15 22 50 39 36 31 23 29 16 63 54 33 38 26\n",
      " 42 34]\n",
      "\n"
     ]
    }
   ],
   "source": [
    "for col in data.columns:\n",
    "    print(f\"{col} - {data[col].unique()}\\n\")"
   ]
  },
  {
   "cell_type": "markdown",
   "id": "9653fbdf",
   "metadata": {},
   "source": [
    "## Categóricas:\n",
    "\n",
    "### **Nominal**\n",
    "*(Variáveis que possuem duas ou mais categorias, mas que não têm uma ordem intrínseca.)*\n",
    "\n",
    "- **food_type** *(Tipo de alimento)*\n",
    "  - `Meat` (Carne)\n",
    "  - `Vegetables` (Vegetais)\n",
    "  - `Fruits` (Frutas)\n",
    "  - `Baked Goods` (Produtos assados)\n",
    "  - `Dairy Products` (Laticínios)\n",
    "\n",
    "- **event_type** *(Tipo de evento)*\n",
    "  - `Corporate` (Corporativo)\n",
    "  - `Birthday` (Aniversário)\n",
    "  - `Wedding` (Casamento)\n",
    "  - `Social Gathering` (Encontro social)\n",
    "\n",
    "- **storage_conditions** *(Condições de armazenamento)*\n",
    "  - `Refrigerated` (Refrigerado)\n",
    "  - `Room Temperature` (Temperatura ambiente)\n",
    "\n",
    "- **purchase_history** *(Histórico de compra)*\n",
    "  - `Regular`\n",
    "  - `Occasional` (Ocasional)\n",
    "\n",
    "- **seasonality** *(Sazonalidade)*\n",
    "  - `All Seasons` (Todas as estações)\n",
    "  - `Winter` (Inverno)\n",
    "  - `Summer` (Verão)\n",
    "\n",
    "- **preparation_method** *(Método de preparo)*\n",
    "  - `Buffet`\n",
    "  - `Finger Food`\n",
    "  - `Sit-down Dinner` (Jantar servido)\n",
    "\n",
    "- **geo_location** *(Localização geográfica)*\n",
    "  - `Urban` (Urbano)\n",
    "  - `Suburban` (Suburbano)\n",
    "  - `Rural`\n",
    "\n",
    "- **pricing** *(Faixa de preço)*\n",
    "  - `Low` (Baixo)\n",
    "  - `Moderate` (Moderado)\n",
    "  - `High` (Alto)\n",
    "\n",
    "---\n",
    "\n",
    "### **Ordinal**\n",
    "*(Variáveis que possuem duas ou mais categorias, mas que podem ser ordenadas ou ranqueadas.)*\n",
    "\n",
    "> *Nenhuma variável explicitamente ordinal neste conjunto. Entretanto, “pricing” (faixa de preço) **pode ser interpretada como ordinal**, dependendo do contexto.*\n",
    "\n",
    "---\n",
    "\n",
    "### **Contínuas (Numéricas)**\n",
    "*(Variáveis que representam valores numéricos contínuos dentro de um intervalo.)*\n",
    "\n",
    "- **guests_num**  \n",
    "  *(Número de convidados no evento)*  \n",
    "\n",
    "- **food_quantity_kg**  \n",
    "  *(Quantidade total de comida preparada em quilogramas)* \n",
    "\n",
    "- **wastage_food_amount_kg**\n",
    "  *(Quantidade de total comida desperdiçada em quilogramas)*\n",
    "\n"
   ]
  },
  {
   "cell_type": "markdown",
   "id": "8b76c9a8",
   "metadata": {},
   "source": [
    "## Vamos analisar essas variáveis numéricas!"
   ]
  },
  {
   "cell_type": "code",
   "execution_count": 22,
   "id": "bfec0a2c2e981e5",
   "metadata": {},
   "outputs": [
    {
     "data": {
      "image/png": "[encoded data removed]",
      "text/plain": [
       "<Figure size 600x600 with 1 Axes>"
      ]
     },
     "metadata": {},
     "output_type": "display_data"
    },
    {
     "data": {
      "image/png": "[encoded data removed]",
      "text/plain": [
       "<Figure size 600x600 with 1 Axes>"
      ]
     },
     "metadata": {},
     "output_type": "display_data"
    },
    {
     "data": {
      "image/png": "[encoded data removed]",
      "text/plain": [
       "<Figure size 600x600 with 1 Axes>"
      ]
     },
     "metadata": {},
     "output_type": "display_data"
    }
   ],
   "source": [
    "plt.figure(figsize=(6, 6))\n",
    "sns.boxplot(x=data['guests_num'], color='honeydew')\n",
    "plt.title(\"Boxplot do Número de Convidados\")\n",
    "plt.xlabel('Número de Convidadados')\n",
    "plt.show()\n",
    "\n",
    "plt.figure(figsize=(6, 6))\n",
    "sns.boxplot(x=data['food_quantity_kg'], color='peachpuff')\n",
    "plt.title('Boxplot da Quantidade de comida (Kg)')\n",
    "plt.xlabel('Quantidade de comida (Kg)')\n",
    "plt.show()\n",
    "\n",
    "plt.figure(figsize=(6, 6))\n",
    "sns.boxplot(x=data['wastage_food_amount_kg'], color='powderblue')\n",
    "plt.title('Boxplot da Quantidade de comida desperdiçada (Kg)')\n",
    "plt.xlabel('Quantidade de comida desperdiçada (Kg)')\n",
    "plt.show()"
   ]
  },
  {
   "cell_type": "code",
   "execution_count": null,
   "id": "44a306cc",
   "metadata": {},
   "outputs": [],
   "source": []
  }
 ],
 "metadata": {
  "kernelspec": {
   "display_name": "Python 3",
   "language": "python",
   "name": "python3"
  },
  "language_info": {
   "codemirror_mode": {
    "name": "ipython",
    "version": 3
   },
   "file_extension": ".py",
   "mimetype": "text/x-python",
   "name": "python",
   "nbconvert_exporter": "python",
   "pygments_lexer": "ipython3",
   "version": "3.11.9"
  }
 },
 "nbformat": 4,
 "nbformat_minor": 5
}
